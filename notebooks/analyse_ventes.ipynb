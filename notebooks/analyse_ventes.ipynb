{
 "cells": [
  {
   "cell_type": "markdown",
   "id": "acea0473",
   "metadata": {},
   "source": [
    "# 📊 Analyse prédictive des ventes\n",
    "\n",
    "Bienvenue dans ce notebook. Nous allons explorer un jeu de données de ventes au détail, créer des visualisations et tenter de prédire les ventes futures."
   ]
  },
  {
   "cell_type": "code",
   "execution_count": null,
   "id": "3828e646",
   "metadata": {},
   "outputs": [],
   "source": [
    "import pandas as pd\n",
    "import numpy as np\n",
    "import matplotlib.pyplot as plt\n",
    "import seaborn as sns\n",
    "import plotly.express as px\n",
    "from sklearn.model_selection import train_test_split\n",
    "from sklearn.linear_model import LinearRegression\n",
    "from sklearn.metrics import mean_squared_error, mean_absolute_error\n",
    "import warnings\n",
    "warnings.filterwarnings('ignore')\n",
    "%matplotlib inline\n"
   ]
  },
  {
   "cell_type": "code",
   "execution_count": null,
   "id": "0b47e4a3",
   "metadata": {},
   "outputs": [],
   "source": [
    "# Charger les données\n",
    "df = pd.read_csv('../data/superstore.csv')\n",
    "\n",
    "# Aperçu du jeu de données\n",
    "df.head()\n"
   ]
  },
  {
   "cell_type": "code",
   "execution_count": null,
   "id": "062a03b3",
   "metadata": {},
   "outputs": [],
   "source": [
    "# Taille et infos\n",
    "print(df.shape)\n",
    "df.info()\n",
    "\n",
    "# Statistiques descriptives\n",
    "df.describe()\n"
   ]
  },
  {
   "cell_type": "code",
   "execution_count": null,
   "id": "d19de6f2",
   "metadata": {},
   "outputs": [],
   "source": [
    "# Exemple : Ventes par catégorie\n",
    "cat_sales = df.groupby('Category')['Sales'].sum().reset_index()\n",
    "px.bar(cat_sales, x='Category', y='Sales', title='Ventes par catégorie')\n"
   ]
  },
  {
   "cell_type": "code",
   "execution_count": null,
   "id": "47766409",
   "metadata": {},
   "outputs": [],
   "source": [
    "# Exemple simple : prédiction des ventes selon la quantité\n",
    "df_model = df[['Sales', 'Quantity']].dropna()\n",
    "\n",
    "X = df_model[['Quantity']]\n",
    "y = df_model['Sales']\n",
    "\n",
    "X_train, X_test, y_train, y_test = train_test_split(X, y, test_size=0.2, random_state=42)\n",
    "\n",
    "model = LinearRegression()\n",
    "model.fit(X_train, y_train)\n",
    "\n",
    "y_pred = model.predict(X_test)\n",
    "\n",
    "print(\"RMSE:\", np.sqrt(mean_squared_error(y_test, y_pred)))\n",
    "print(\"MAE:\", mean_absolute_error(y_test, y_pred))\n"
   ]
  },
  {
   "cell_type": "markdown",
   "id": "f8944189",
   "metadata": {},
   "source": [
    "## ✅ Prochaines étapes\n",
    "- Améliorer le modèle avec plus de variables\n",
    "- Créer un dashboard Power BI\n",
    "- Ajouter des visualisations interactives supplémentaires"
   ]
  }
 ],
 "metadata": {},
 "nbformat": 4,
 "nbformat_minor": 5
}